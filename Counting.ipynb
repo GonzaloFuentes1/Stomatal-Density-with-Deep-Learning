{
 "cells": [
  {
   "cell_type": "code",
   "execution_count": 1,
   "metadata": {
    "executionInfo": {
     "elapsed": 1341,
     "status": "ok",
     "timestamp": 1727112372941,
     "user": {
      "displayName": "Gonzalo Fuentes",
      "userId": "02144207982774235237"
     },
     "user_tz": 180
    },
    "id": "Kec5agKoIbi-"
   },
   "outputs": [],
   "source": [
    "import os\n",
    "import cv2\n",
    "import shutil\n",
    "import random\n",
    "import numpy as np\n",
    "import pandas as pd\n",
    "import matplotlib.pyplot as plt\n",
    "import matplotlib.patches as patches\n",
    "\n",
    "from collections import defaultdict\n",
    "from ultralytics import YOLO\n",
    "from scipy import stats\n",
    "from tqdm import tqdm\n",
    "from PIL import Image\n"
   ]
  },
  {
   "cell_type": "code",
   "execution_count": 2,
   "metadata": {},
   "outputs": [],
   "source": [
    "# Metadata para ordenar el entrenamiento\n",
    "metadata_path = 'datasets\\Labeled Stomatal Images.csv'\n",
    "metadata = pd.read_csv(metadata_path)"
   ]
  },
  {
   "cell_type": "markdown",
   "metadata": {},
   "source": [
    "# Preprocesamiento"
   ]
  },
  {
   "cell_type": "code",
   "execution_count": 3,
   "metadata": {},
   "outputs": [],
   "source": [
    "def holdOut(random_seed = 42, test_size = 0.2):\n",
    "    random.seed(random_seed)\n",
    "    main_folder = 'datasets'\n",
    "\n",
    "    train_images_folder = os.path.join(main_folder, 'train/images')\n",
    "    train_labels_folder = os.path.join(main_folder, 'train/labels')\n",
    "    val_images_folder = os.path.join(main_folder, 'val/images')\n",
    "    val_labels_folder = os.path.join(main_folder, 'val/labels')\n",
    "\n",
    "    folders = [train_images_folder, train_labels_folder, val_images_folder, val_labels_folder]\n",
    "\n",
    "  # Sino existen los directorios\n",
    "    for folder in folders:\n",
    "        if not os.path.exists(folder):\n",
    "            os.makedirs(folder)\n",
    "\n",
    "    # Obtener todos los archivos de la columna 'FileName'\n",
    "    all_files = metadata['FileName'].tolist()\n",
    "\n",
    "    # Mezclar aleatoriamente los archivos\n",
    "    random.shuffle(all_files,)\n",
    "\n",
    "    split_idx = int((1-test_size) * len(all_files))\n",
    "    trainFiles = all_files[:split_idx]\n",
    "    valFiles = all_files[split_idx:]\n",
    "\n",
    "    for folder in folders:\n",
    "        for file in os.listdir(folder):\n",
    "            if file.split(\".\")[0] in trainFiles:\n",
    "                if file.endswith(\".jpg\"):\n",
    "                    shutil.move(os.path.join(folder, file), os.path.join(main_folder, 'train/images', file))\n",
    "                elif file.endswith(\".txt\"):\n",
    "                    shutil.move(os.path.join(folder, file), os.path.join(main_folder, 'train/labels', file))\n",
    "    \n",
    "    for folder in folders:\n",
    "        for file in os.listdir(folder):\n",
    "            if file.split(\".\")[0] in valFiles:\n",
    "                if file.endswith(\".jpg\"):\n",
    "                    shutil.move(os.path.join(folder, file), os.path.join(main_folder, 'val/images', file))\n",
    "                elif file.endswith(\".txt\"):\n",
    "                    shutil.move(os.path.join(folder, file), os.path.join(main_folder, 'val/labels', file))"
   ]
  },
  {
   "cell_type": "code",
   "execution_count": 4,
   "metadata": {},
   "outputs": [],
   "source": [
    "def count_bounding_boxes(model, image_path, confidence_threshold = 0.25):\n",
    "    results = model.predict(image_path, verbose=False)\n",
    "    bbox_counts = defaultdict(int)\n",
    "\n",
    "    for result in results:\n",
    "        for box in result.boxes: \n",
    "            if box.conf >= confidence_threshold: \n",
    "                class_id = int(box.cls) \n",
    "                bbox_counts[class_id] += 1\n",
    "\n",
    "    return bbox_counts\n",
    "\n",
    "def density(model, fileData, image_path):\n",
    "    count = count_bounding_boxes(model, image_path)[0]\n",
    "    pixelSize = 1/fileData[\"Resolution\"] #\n",
    "    fisicWitdh = fileData[\"Witdh\"]*pixelSize\n",
    "    fisicHeigth = fileData[\"Heigth\"]*pixelSize\n",
    "    Area = fisicWitdh*fisicHeigth\n",
    "    Density = count/Area * 100\n",
    "    return Density\n",
    "\n",
    "def load_labels(label_path):\n",
    "    labels = defaultdict(list)\n",
    "    with open(label_path, 'r') as file:\n",
    "        for line in file:\n",
    "            parts = line.strip().split()\n",
    "            class_id = int(parts[0])\n",
    "            bbox = list(map(float, parts[1:]))\n",
    "            labels[class_id].append(bbox)\n",
    "    return labels\n"
   ]
  },
  {
   "cell_type": "markdown",
   "metadata": {},
   "source": [
    "# Ejemplo"
   ]
  },
  {
   "cell_type": "code",
   "execution_count": null,
   "metadata": {},
   "outputs": [],
   "source": [
    "# Recordar que las predicciones 1 son bounding chicas y 0 bounding grandes\n",
    "image_path = \"datasets/train/images/STMHD0007.jpg\"\n",
    "\n",
    "model = YOLO('Modelos\\yolov10\\HoldOutSimpleYolov10n.pt')\n",
    "\n",
    "count_bounding_boxes(model,image_path)"
   ]
  },
  {
   "cell_type": "code",
   "execution_count": null,
   "metadata": {},
   "outputs": [],
   "source": [
    "metadata"
   ]
  },
  {
   "cell_type": "code",
   "execution_count": null,
   "metadata": {},
   "outputs": [],
   "source": [
    "PATH_images = \"datasets/train/images\"\n",
    "\n",
    "counts = []\n",
    "for i in tqdm(range(len(metadata))):\n",
    "    fileData = metadata.iloc[i]\n",
    "    path = PATH_images + f\"/{fileData.FileName}.jpg\"\n",
    "    counts.append(count_bounding_boxes(model, path)[0])"
   ]
  },
  {
   "cell_type": "code",
   "execution_count": null,
   "metadata": {},
   "outputs": [],
   "source": [
    "PATH_labels = \"datasets/train/labels\"\n",
    "\n",
    "RealCounts = []\n",
    "for i in tqdm(range(len(metadata))):\n",
    "    fileData = metadata.iloc[i]\n",
    "    path = PATH_labels + f\"/{fileData.FileName}.txt\"\n",
    "    real_labels = load_labels(path)\n",
    "    real_counts = {class_id: len(bboxes) for class_id, bboxes in real_labels.items()}[0]\n",
    "    RealCounts.append(real_counts)"
   ]
  },
  {
   "cell_type": "code",
   "execution_count": null,
   "metadata": {},
   "outputs": [],
   "source": [
    "# Datos de ejemplo\n",
    "data = counts\n",
    "data2 = RealCounts\n",
    "\n",
    "# Calculamos los histogramas (sin graficar) para obtener los bins\n",
    "frequencies1, bins1 = np.histogram(data, bins=10)\n",
    "frequencies2, bins2 = np.histogram(data2, bins=10)\n",
    "\n",
    "# Encontramos los valores mínimos y máximos de los bins\n",
    "min_bin = min(bins1.min(), bins2.min())\n",
    "max_bin = max(bins1.max(), bins2.max())\n",
    "\n",
    "# Creamos un rango de bins común basado en los valores mínimos y máximos\n",
    "common_bins = np.linspace(min_bin, max_bin, 30)\n",
    "\n",
    "# Crear los histogramas en el mismo eje usando los mismos bins\n",
    "fig, ax = plt.subplots()\n",
    "ax.hist(data, bins=common_bins, alpha=0.5, label='Modelo', edgecolor='black')\n",
    "ax.hist(data2, bins=common_bins, alpha=0.5, label='Reales', edgecolor='black')\n",
    "\n",
    "# Añadir la leyenda y etiquetas\n",
    "ax.set_xlabel('Número de estomas')\n",
    "ax.set_ylabel('Frecuencia')\n",
    "ax.set_title('Histograma')\n",
    "ax.legend()\n",
    "\n",
    "# Mostrar el gráfico\n",
    "plt.show()"
   ]
  }
 ],
 "metadata": {
  "accelerator": "GPU",
  "colab": {
   "gpuType": "T4",
   "provenance": []
  },
  "kernelspec": {
   "display_name": "Python 3",
   "name": "python3"
  },
  "language_info": {
   "codemirror_mode": {
    "name": "ipython",
    "version": 3
   },
   "file_extension": ".py",
   "mimetype": "text/x-python",
   "name": "python",
   "nbconvert_exporter": "python",
   "pygments_lexer": "ipython3",
   "version": "3.10.9"
  }
 },
 "nbformat": 4,
 "nbformat_minor": 0
}
