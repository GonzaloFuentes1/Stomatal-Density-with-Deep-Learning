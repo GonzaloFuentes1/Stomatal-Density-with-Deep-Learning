{
 "cells": [
  {
   "cell_type": "code",
   "execution_count": null,
   "metadata": {
    "executionInfo": {
     "elapsed": 1341,
     "status": "ok",
     "timestamp": 1727112372941,
     "user": {
      "displayName": "Gonzalo Fuentes",
      "userId": "02144207982774235237"
     },
     "user_tz": 180
    },
    "id": "Kec5agKoIbi-"
   },
   "outputs": [],
   "source": [
    "import os\n",
    "import torch\n",
    "import cv2\n",
    "import numpy as np\n",
    "\n",
    "from ultralytics import SAM, YOLO\n"
   ]
  },
  {
   "cell_type": "markdown",
   "metadata": {},
   "source": [
    "# SAM"
   ]
  },
  {
   "cell_type": "code",
   "execution_count": 13,
   "metadata": {},
   "outputs": [],
   "source": [
    "# Configura el uso de CUDA\n",
    "device = 'cuda' if torch.cuda.is_available() else 'cpu'"
   ]
  },
  {
   "cell_type": "code",
   "execution_count": 15,
   "metadata": {},
   "outputs": [],
   "source": [
    "# Cargar SAM con el checkpoint\n",
    "sam_model = SAM('Modelos/SAM/sam_b.pt')  \n",
    "\n",
    "# Cargar el modelo YOLO\n",
    "yolo_model = YOLO('Modelos/yolov10/HoldOutSimpleYolov10n.pt')"
   ]
  },
  {
   "cell_type": "code",
   "execution_count": null,
   "metadata": {},
   "outputs": [],
   "source": [
    "# Directorios de imágenes y de salida\n",
    "image_dir = \"datasets/train/images\"\n",
    "output_dir = \"datasets/SAM_output\"  # Directorio para guardar las s egmentaciones\n",
    "os.makedirs(output_dir, exist_ok=True)"
   ]
  },
  {
   "cell_type": "code",
   "execution_count": 20,
   "metadata": {},
   "outputs": [],
   "source": [
    "def segment_stoma(image_path, output_dir, yolo_model, sam_model, clase, save_masks=False):\n",
    "    masks_list = []\n",
    "    image = cv2.imread(image_path)\n",
    "    image_name = os.path.basename(image_path)\n",
    "    \n",
    "    results = yolo_model.predict(image, imgsz=640, device=device, verbose = False)\n",
    "\n",
    "    for idx, detection in enumerate(results[0].boxes):\n",
    "        if detection.cls == clase:\n",
    "            x_min, y_min, x_max, y_max = map(int, detection.xyxy[0])\n",
    "\n",
    "            sam_results = sam_model.predict(image, bboxes=[x_min, y_min, x_max, y_max], verbose = False)\n",
    "            for mask in sam_results[0].masks.data:\n",
    "                mask = mask.data.cpu().numpy()\n",
    "                masks_list.append(mask)\n",
    "                if save_masks:\n",
    "\n",
    "                    mask_path = os.path.join(output_dir, f\"{os.path.splitext(image_name)[0]}_mask_{idx}.png\")\n",
    "                    cv2.imwrite(mask_path, mask * 255)\n",
    "    return masks_list"
   ]
  },
  {
   "cell_type": "code",
   "execution_count": null,
   "metadata": {},
   "outputs": [],
   "source": [
    "def combine_masks(masks_list, image_shape):\n",
    "    combined_mask = np.zeros(image_shape[:2], dtype=np.uint8)\n",
    "    for mask in masks_list:\n",
    "        combined_mask = np.maximum(combined_mask, mask)\n",
    "    return combined_mask  \n",
    "\n",
    "def overlay_combined_mask(original_image_path, combined_mask, output_path):\n",
    "    original_image = cv2.imread(original_image_path)\n",
    "    overlay = original_image.copy()\n",
    "    overlay[combined_mask > 0] = [0, 255, 0]\n",
    "    \n",
    "    cv2.imwrite(output_path, overlay)"
   ]
  },
  {
   "cell_type": "markdown",
   "metadata": {},
   "source": [
    "Testeo"
   ]
  },
  {
   "cell_type": "code",
   "execution_count": null,
   "metadata": {},
   "outputs": [],
   "source": [
    "image_path = \"datasets/train/images/STMHD0002.jpg\"\n",
    "output_path = \"datasets/SAM_output/STMHD0002_mask_overlay.jpg\"\n",
    "clase = 0 # 0 es la caja grande, 1 es la caja pequeña\n",
    "\n",
    "masks_list = segment_stoma(image_path, output_dir, yolo_model, sam_model, clase,  save_masks=False)\n",
    "combined_mask = combine_masks(masks_list, cv2.imread(image_path).shape)\n",
    "\n",
    "overlay_combined_mask(image_path, combined_mask, output_path)"
   ]
  },
  {
   "cell_type": "code",
   "execution_count": 32,
   "metadata": {},
   "outputs": [],
   "source": [
    "# Si se quiere hacer para todos las imagenes \n",
    "image_dir = \"datasets/train/images\"\n",
    "output_dir = \"datasets/SAM_output\"\n",
    "clase = 1 # 0 es la caja grande, 1 es la caja pequeña\n",
    "os.makedirs(output_dir, exist_ok=True)\n",
    "\n",
    "for image_name in os.listdir(image_dir)[:2]:\n",
    "    image_path = os.path.join(image_dir, image_name)\n",
    "    masks_list = segment_stoma(image_path, output_dir, yolo_model, sam_model, clase, save_masks=False)\n",
    "    combined_mask = combine_masks(masks_list, cv2.imread(image_path).shape)\n",
    "    output_path = f\"datasets/SAM_output/MaskOverlay_Class_{clase}_{image_name}\"\n",
    "    overlay_combined_mask(image_path, combined_mask, output_path)"
   ]
  }
 ],
 "metadata": {
  "accelerator": "GPU",
  "colab": {
   "gpuType": "T4",
   "provenance": []
  },
  "kernelspec": {
   "display_name": "Python 3",
   "name": "python3"
  },
  "language_info": {
   "codemirror_mode": {
    "name": "ipython",
    "version": 3
   },
   "file_extension": ".py",
   "mimetype": "text/x-python",
   "name": "python",
   "nbconvert_exporter": "python",
   "pygments_lexer": "ipython3",
   "version": "3.10.9"
  }
 },
 "nbformat": 4,
 "nbformat_minor": 0
}
